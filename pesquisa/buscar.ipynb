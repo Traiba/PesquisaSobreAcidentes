{
 "cells": [
  {
   "cell_type": "code",
   "execution_count": 1,
   "metadata": {},
   "outputs": [],
   "source": [
    "import pandas as pd\n",
    "import matplotlib.pyplot as pyplot"
   ]
  },
  {
   "cell_type": "code",
   "execution_count": 2,
   "metadata": {},
   "outputs": [
    {
     "data": {
      "text/html": [
       "<div>\n",
       "<style scoped>\n",
       "    .dataframe tbody tr th:only-of-type {\n",
       "        vertical-align: middle;\n",
       "    }\n",
       "\n",
       "    .dataframe tbody tr th {\n",
       "        vertical-align: top;\n",
       "    }\n",
       "\n",
       "    .dataframe thead th {\n",
       "        text-align: right;\n",
       "    }\n",
       "</style>\n",
       "<table border=\"1\" class=\"dataframe\">\n",
       "  <thead>\n",
       "    <tr style=\"text-align: right;\">\n",
       "      <th></th>\n",
       "      <th>id</th>\n",
       "      <th>data_inversa</th>\n",
       "      <th>dia_semana</th>\n",
       "      <th>horario</th>\n",
       "      <th>uf</th>\n",
       "      <th>br</th>\n",
       "      <th>km</th>\n",
       "      <th>municipio</th>\n",
       "      <th>causa_acidente</th>\n",
       "      <th>tipo_acidente</th>\n",
       "      <th>...</th>\n",
       "      <th>feridos_graves</th>\n",
       "      <th>ilesos</th>\n",
       "      <th>ignorados</th>\n",
       "      <th>feridos</th>\n",
       "      <th>veiculos</th>\n",
       "      <th>latitude</th>\n",
       "      <th>longitude</th>\n",
       "      <th>regional</th>\n",
       "      <th>delegacia</th>\n",
       "      <th>uop</th>\n",
       "    </tr>\n",
       "  </thead>\n",
       "  <tbody>\n",
       "    <tr>\n",
       "      <th>0</th>\n",
       "      <td>405151</td>\n",
       "      <td>2022-01-01</td>\n",
       "      <td>sábado</td>\n",
       "      <td>01:35:00</td>\n",
       "      <td>PI</td>\n",
       "      <td>316.0</td>\n",
       "      <td>415</td>\n",
       "      <td>MARCOLANDIA</td>\n",
       "      <td>Ingestão de álcool pelo condutor</td>\n",
       "      <td>Colisão traseira</td>\n",
       "      <td>...</td>\n",
       "      <td>0</td>\n",
       "      <td>1</td>\n",
       "      <td>0</td>\n",
       "      <td>1</td>\n",
       "      <td>2</td>\n",
       "      <td>-7,43280012</td>\n",
       "      <td>-40,68261908</td>\n",
       "      <td>SPRF-PI</td>\n",
       "      <td>DEL04-PI</td>\n",
       "      <td>UOP03-DEL04-PI</td>\n",
       "    </tr>\n",
       "    <tr>\n",
       "      <th>1</th>\n",
       "      <td>405158</td>\n",
       "      <td>2022-01-01</td>\n",
       "      <td>sábado</td>\n",
       "      <td>02:40:00</td>\n",
       "      <td>PR</td>\n",
       "      <td>116.0</td>\n",
       "      <td>33</td>\n",
       "      <td>CAMPINA GRANDE DO SUL</td>\n",
       "      <td>Ingestão de álcool pelo condutor</td>\n",
       "      <td>Tombamento</td>\n",
       "      <td>...</td>\n",
       "      <td>0</td>\n",
       "      <td>0</td>\n",
       "      <td>0</td>\n",
       "      <td>1</td>\n",
       "      <td>1</td>\n",
       "      <td>-25,114403</td>\n",
       "      <td>-48,8467554</td>\n",
       "      <td>SPRF-PR</td>\n",
       "      <td>DEL01-PR</td>\n",
       "      <td>UOP02-DEL01-PR</td>\n",
       "    </tr>\n",
       "    <tr>\n",
       "      <th>2</th>\n",
       "      <td>405172</td>\n",
       "      <td>2022-01-01</td>\n",
       "      <td>sábado</td>\n",
       "      <td>05:22:00</td>\n",
       "      <td>MS</td>\n",
       "      <td>163.0</td>\n",
       "      <td>393</td>\n",
       "      <td>NOVA ALVORADA DO SUL</td>\n",
       "      <td>Condutor deixou de manter distância do veículo...</td>\n",
       "      <td>Colisão traseira</td>\n",
       "      <td>...</td>\n",
       "      <td>0</td>\n",
       "      <td>1</td>\n",
       "      <td>0</td>\n",
       "      <td>1</td>\n",
       "      <td>2</td>\n",
       "      <td>-21,228445</td>\n",
       "      <td>-54,456296</td>\n",
       "      <td>SPRF-MS</td>\n",
       "      <td>DEL02-MS</td>\n",
       "      <td>UOP01-DEL02-MS</td>\n",
       "    </tr>\n",
       "    <tr>\n",
       "      <th>3</th>\n",
       "      <td>405203</td>\n",
       "      <td>2022-01-01</td>\n",
       "      <td>sábado</td>\n",
       "      <td>07:00:00</td>\n",
       "      <td>RJ</td>\n",
       "      <td>101.0</td>\n",
       "      <td>457</td>\n",
       "      <td>ANGRA DOS REIS</td>\n",
       "      <td>Reação tardia ou ineficiente do condutor</td>\n",
       "      <td>Colisão frontal</td>\n",
       "      <td>...</td>\n",
       "      <td>1</td>\n",
       "      <td>1</td>\n",
       "      <td>0</td>\n",
       "      <td>1</td>\n",
       "      <td>2</td>\n",
       "      <td>-23,03149804</td>\n",
       "      <td>-44,17715297</td>\n",
       "      <td>SPRF-RJ</td>\n",
       "      <td>DEL03-RJ</td>\n",
       "      <td>UOP02-DEL03-RJ</td>\n",
       "    </tr>\n",
       "    <tr>\n",
       "      <th>4</th>\n",
       "      <td>405207</td>\n",
       "      <td>2022-01-01</td>\n",
       "      <td>sábado</td>\n",
       "      <td>09:00:00</td>\n",
       "      <td>MG</td>\n",
       "      <td>40.0</td>\n",
       "      <td>508,3</td>\n",
       "      <td>RIBEIRAO DAS NEVES</td>\n",
       "      <td>Acumulo de água sobre o pavimento</td>\n",
       "      <td>Saída de leito carroçável</td>\n",
       "      <td>...</td>\n",
       "      <td>0</td>\n",
       "      <td>3</td>\n",
       "      <td>0</td>\n",
       "      <td>0</td>\n",
       "      <td>1</td>\n",
       "      <td>-19,76061249</td>\n",
       "      <td>-44,1347544</td>\n",
       "      <td>SPRF-MG</td>\n",
       "      <td>DEL02-MG</td>\n",
       "      <td>UOP01-DEL02-MG</td>\n",
       "    </tr>\n",
       "  </tbody>\n",
       "</table>\n",
       "<p>5 rows × 30 columns</p>\n",
       "</div>"
      ],
      "text/plain": [
       "       id data_inversa dia_semana   horario  uf     br     km  \\\n",
       "0  405151   2022-01-01     sábado  01:35:00  PI  316.0    415   \n",
       "1  405158   2022-01-01     sábado  02:40:00  PR  116.0     33   \n",
       "2  405172   2022-01-01     sábado  05:22:00  MS  163.0    393   \n",
       "3  405203   2022-01-01     sábado  07:00:00  RJ  101.0    457   \n",
       "4  405207   2022-01-01     sábado  09:00:00  MG   40.0  508,3   \n",
       "\n",
       "               municipio                                     causa_acidente  \\\n",
       "0            MARCOLANDIA                   Ingestão de álcool pelo condutor   \n",
       "1  CAMPINA GRANDE DO SUL                   Ingestão de álcool pelo condutor   \n",
       "2   NOVA ALVORADA DO SUL  Condutor deixou de manter distância do veículo...   \n",
       "3         ANGRA DOS REIS           Reação tardia ou ineficiente do condutor   \n",
       "4     RIBEIRAO DAS NEVES                  Acumulo de água sobre o pavimento   \n",
       "\n",
       "               tipo_acidente  ... feridos_graves ilesos ignorados feridos  \\\n",
       "0           Colisão traseira  ...              0      1         0       1   \n",
       "1                 Tombamento  ...              0      0         0       1   \n",
       "2           Colisão traseira  ...              0      1         0       1   \n",
       "3            Colisão frontal  ...              1      1         0       1   \n",
       "4  Saída de leito carroçável  ...              0      3         0       0   \n",
       "\n",
       "  veiculos      latitude     longitude  regional  delegacia             uop  \n",
       "0        2   -7,43280012  -40,68261908   SPRF-PI   DEL04-PI  UOP03-DEL04-PI  \n",
       "1        1    -25,114403   -48,8467554   SPRF-PR   DEL01-PR  UOP02-DEL01-PR  \n",
       "2        2    -21,228445    -54,456296   SPRF-MS   DEL02-MS  UOP01-DEL02-MS  \n",
       "3        2  -23,03149804  -44,17715297   SPRF-RJ   DEL03-RJ  UOP02-DEL03-RJ  \n",
       "4        1  -19,76061249   -44,1347544   SPRF-MG   DEL02-MG  UOP01-DEL02-MG  \n",
       "\n",
       "[5 rows x 30 columns]"
      ]
     },
     "execution_count": 2,
     "metadata": {},
     "output_type": "execute_result"
    }
   ],
   "source": [
    "dataframe = pd.read_csv('Dados_PRF_2022.csv', sep=';', encoding='iso-8859-1')\n",
    "dataframe.head()"
   ]
  },
  {
   "cell_type": "code",
   "execution_count": 3,
   "metadata": {},
   "outputs": [
    {
     "name": "stdout",
     "output_type": "stream",
     "text": [
      "essa é a maior causa dos acidentes \"Reação tardia ou ineficiente do condutor\" com \"8407\" casos\n"
     ]
    }
   ],
   "source": [
    "contagem_causas = dataframe['causa_acidente'].value_counts()\n",
    "#print(contagem_causas)\n",
    "\n",
    "causa_mais_comum = contagem_causas.idxmax() \n",
    "quantidade_mais_comum = contagem_causas.max()\n",
    "\n",
    "print(f'essa é a maior causa dos acidentes \"{causa_mais_comum}\" com \"{quantidade_mais_comum}\" casos')"
   ]
  },
  {
   "cell_type": "code",
   "execution_count": 4,
   "metadata": {},
   "outputs": [
    {
     "name": "stdout",
     "output_type": "stream",
     "text": [
      "Esse é o municipio onde mais ocorre acidentes \"BRASILIA\" com \"922\" casos\n"
     ]
    }
   ],
   "source": [
    "contagem_municipio = dataframe['municipio'].value_counts()\n",
    "#print(contagem_causas)\n",
    "\n",
    "municipio_mais_comum = contagem_municipio.idxmax() \n",
    "quantidade_municipio = contagem_municipio.max()\n",
    "\n",
    "print(f'Esse é o municipio onde mais ocorre acidentes \"{municipio_mais_comum}\" com \"{quantidade_municipio}\" casos')"
   ]
  },
  {
   "cell_type": "code",
   "execution_count": 5,
   "metadata": {},
   "outputs": [
    {
     "name": "stdout",
     "output_type": "stream",
     "text": [
      "Esse é o dia que mais acontece acidentes \"domingo\" com \"10969\" casos\n"
     ]
    }
   ],
   "source": [
    "contagem_dia = dataframe['dia_semana'].value_counts()\n",
    "#print(contagem_causas)\n",
    "\n",
    "dia_mais_comum = contagem_dia.idxmax() \n",
    "quantidade_dia = contagem_dia.max()\n",
    "\n",
    "print(f'Esse é o dia que mais acontece acidentes \"{dia_mais_comum}\" com \"{quantidade_dia}\" casos')"
   ]
  },
  {
   "cell_type": "code",
   "execution_count": 6,
   "metadata": {},
   "outputs": [
    {
     "name": "stdout",
     "output_type": "stream",
     "text": [
      "           id data_inversa     dia_semana   horario  uf     br     km  \\\n",
      "0      405151   2022-01-01         sábado  01:35:00  PI  316.0    415   \n",
      "1      405158   2022-01-01         sábado  02:40:00  PR  116.0     33   \n",
      "2      405172   2022-01-01         sábado  05:22:00  MS  163.0    393   \n",
      "3      405203   2022-01-01         sábado  07:00:00  RJ  101.0    457   \n",
      "4      405207   2022-01-01         sábado  09:00:00  MG   40.0  508,3   \n",
      "...       ...          ...            ...       ...  ..    ...    ...   \n",
      "37335  455948   2022-03-01    terça-feira  14:30:00  RJ  485.0      2   \n",
      "40983  461436   2022-03-01    terça-feira  14:10:00  ES  262.0   89,8   \n",
      "43708  465664   2022-03-01    terça-feira  14:00:00  RJ  101.0    304   \n",
      "48662  473282   2022-02-28  segunda-feira  20:30:00  PR  369.0    185   \n",
      "62594  494395   2022-04-21   quinta-feira  05:50:00  RJ  493.0    103   \n",
      "\n",
      "                   municipio  \\\n",
      "0                MARCOLANDIA   \n",
      "1      CAMPINA GRANDE DO SUL   \n",
      "2       NOVA ALVORADA DO SUL   \n",
      "3             ANGRA DOS REIS   \n",
      "4         RIBEIRAO DAS NEVES   \n",
      "...                      ...   \n",
      "37335               ITATIAIA   \n",
      "40983       DOMINGOS MARTINS   \n",
      "43708            SAO GONCALO   \n",
      "48662              ARAPONGAS   \n",
      "62594             SEROPEDICA   \n",
      "\n",
      "                                          causa_acidente  \\\n",
      "0                       Ingestão de álcool pelo condutor   \n",
      "1                       Ingestão de álcool pelo condutor   \n",
      "2      Condutor deixou de manter distância do veículo...   \n",
      "3               Reação tardia ou ineficiente do condutor   \n",
      "4                      Acumulo de água sobre o pavimento   \n",
      "...                                                  ...   \n",
      "37335  Acessar a via sem observar a presença dos outr...   \n",
      "40983                   Ingestão de álcool pelo condutor   \n",
      "43708           Reação tardia ou ineficiente do condutor   \n",
      "48662                        Manobra de mudança de faixa   \n",
      "62594                     Ausência de reação do condutor   \n",
      "\n",
      "                       tipo_acidente  ... feridos_graves ilesos ignorados  \\\n",
      "0                   Colisão traseira  ...              0      1         0   \n",
      "1                         Tombamento  ...              0      0         0   \n",
      "2                   Colisão traseira  ...              0      1         0   \n",
      "3                    Colisão frontal  ...              1      1         0   \n",
      "4          Saída de leito carroçável  ...              0      3         0   \n",
      "...                              ...  ...            ...    ...       ...   \n",
      "37335            Colisão transversal  ...              2      1         1   \n",
      "40983      Saída de leito carroçável  ...              0      0         0   \n",
      "43708             Colisão com objeto  ...              0      0         0   \n",
      "48662  Colisão lateral mesmo sentido  ...              0      0         1   \n",
      "62594                     Tombamento  ...              1      0         0   \n",
      "\n",
      "      feridos veiculos      latitude     longitude  regional  delegacia  \\\n",
      "0           1        2   -7,43280012  -40,68261908   SPRF-PI   DEL04-PI   \n",
      "1           1        1    -25,114403   -48,8467554   SPRF-PR   DEL01-PR   \n",
      "2           1        2    -21,228445    -54,456296   SPRF-MS   DEL02-MS   \n",
      "3           1        2  -23,03149804  -44,17715297   SPRF-RJ   DEL03-RJ   \n",
      "4           0        1  -19,76061249   -44,1347544   SPRF-MG   DEL02-MG   \n",
      "...       ...      ...           ...           ...       ...        ...   \n",
      "37335       2        2  -22,48109411   -44,5721741   SPRF-RJ   DEL07-RJ   \n",
      "40983       2        1  -20,38725617  -41,01746327   SPRF-ES   DEL01-ES   \n",
      "43708       1        1  -22,78491869  -42,98627706   SPRF-RJ   DEL02-RJ   \n",
      "48662       1        2  -23,41320842  -51,42710388   SPRF-PR   DEL07-PR   \n",
      "62594       1        1  -22,77047159  -43,74031826   SPRF-RJ   DEL01-RJ   \n",
      "\n",
      "                  uop  \n",
      "0      UOP03-DEL04-PI  \n",
      "1      UOP02-DEL01-PR  \n",
      "2      UOP01-DEL02-MS  \n",
      "3      UOP02-DEL03-RJ  \n",
      "4      UOP01-DEL02-MG  \n",
      "...               ...  \n",
      "37335  UOP02-DEL07-RJ  \n",
      "40983  UOP02-DEL01-ES  \n",
      "43708  UOP02-DEL02-RJ  \n",
      "48662  UOP03-DEL07-PR  \n",
      "62594  UOP04-DEL01-RJ  \n",
      "\n",
      "[769 rows x 30 columns]\n"
     ]
    }
   ],
   "source": [
    "\n",
    "dados_acidentes = pd.read_csv('Dados_PRF_2022.csv', sep=';', encoding='iso-8859-1')\n",
    "\n",
    "# Lista de feriados (substitua com os feriados do seu país/região)\n",
    "feriados = ['2022-01-01', '2022-02-28', '2022-03-01', '2022-04-15', '2022-04-21']\n",
    "\n",
    "# Filtrar o conjunto de dados para manter apenas os feriados\n",
    "feriados_filtrados = dados_acidentes[dados_acidentes['data_inversa'].isin(feriados)]\n",
    "\n",
    "# Visualizar os dados apenas dos feriados\n",
    "print(feriados_filtrados)"
   ]
  },
  {
   "cell_type": "code",
   "execution_count": 7,
   "metadata": {},
   "outputs": [
    {
     "name": "stdout",
     "output_type": "stream",
     "text": [
      "           id data_inversa    dia_semana   horario  uf     br     km  \\\n",
      "17     405338   2022-01-02       domingo  00:00:00  BA  101.0    177   \n",
      "18     405368   2022-01-02       domingo  08:46:00  MT  364.0    350   \n",
      "19     405382   2022-01-02       domingo  10:40:00  MG   40.0  737,8   \n",
      "20     405384   2022-01-02       domingo  09:40:00  BA  116.0  382,8   \n",
      "21     405389   2022-01-02       domingo  08:10:00  BA  116.0  441,9   \n",
      "...       ...          ...           ...       ...  ..    ...    ...   \n",
      "64542  516543   2022-11-06       domingo  20:00:00  PI  316.0    313   \n",
      "64543  516703   2022-05-03   terça-feira  02:30:00  ES  262.0     17   \n",
      "64544  516707   2022-11-29   terça-feira  19:00:00  MG  146.0    459   \n",
      "64545  516846   2022-07-31       domingo  09:54:00  CE  116.0      5   \n",
      "64546  516931   2022-11-17  quinta-feira  18:13:00  PR  277.0   11,8   \n",
      "\n",
      "                       municipio                            causa_acidente  \\\n",
      "17        SAO GONCALO DOS CAMPOS                   Ausência de sinalização   \n",
      "18     SANTO ANTONIO DO LEVERGER                         Condutor Dormindo   \n",
      "19                 SANTOS DUMONT  Reação tardia ou ineficiente do condutor   \n",
      "20                 SANTA BARBARA  Reação tardia ou ineficiente do condutor   \n",
      "21              FEIRA DE SANTANA                   Velocidade Incompatível   \n",
      "...                          ...                                       ...   \n",
      "64542                      PICOS            Ausência de reação do condutor   \n",
      "64543                      VIANA                   Velocidade Incompatível   \n",
      "64544                   BOTELHOS                    Transitar na contramão   \n",
      "64545                  FORTALEZA               Manobra de mudança de faixa   \n",
      "64546                  PARANAGUA                          Animais na Pista   \n",
      "\n",
      "                   tipo_acidente  ... feridos_graves ilesos ignorados feridos  \\\n",
      "17               Colisão frontal  ...              0      1         1       1   \n",
      "18     Saída de leito carroçável  ...              1      0         0       1   \n",
      "19               Colisão frontal  ...              1      4         0      10   \n",
      "20     Saída de leito carroçável  ...              0      0         0       1   \n",
      "21     Saída de leito carroçável  ...              0      0         0       1   \n",
      "...                          ...  ...            ...    ...       ...     ...   \n",
      "64542        Colisão transversal  ...              1      1         2       1   \n",
      "64543  Saída de leito carroçável  ...              0      0         1       0   \n",
      "64544            Colisão frontal  ...              1      0         0       2   \n",
      "64545                 Tombamento  ...              0      0         1       1   \n",
      "64546    Atropelamento de Animal  ...              2      0         0       2   \n",
      "\n",
      "      veiculos      latitude     longitude  regional  delegacia  \\\n",
      "17           3    -12,519078    -38,970829   SPRF-BA   DEL01-BA   \n",
      "18           1  -15,79356276  -55,58572076   SPRF-MT   DEL05-MT   \n",
      "19           5  -21,39150494  -43,56782913   SPRF-MG   DEL05-MG   \n",
      "20           1  -11,86763402  -38,97814273   SPRF-BA   DEL02-BA   \n",
      "21           1  -12,35321588   -39,0945505   SPRF-BA   DEL02-BA   \n",
      "...        ...           ...           ...       ...        ...   \n",
      "64542        2   -7,07959049  -41,44975182   SPRF-PI   DEL04-PI   \n",
      "64543        1  -20,38635961  -40,47272969   SPRF-ES   DEL01-ES   \n",
      "64544        2  -21,62224461  -46,40968323   SPRF-MG   DEL09-MG   \n",
      "64545        2   -3,79654632  -38,50665092   SPRF-CE   DEL01-CE   \n",
      "64546        1  -25,56418984  -48,63272406   SPRF-PR   DEL01-PR   \n",
      "\n",
      "                  uop  \n",
      "17     UOP03-DEL01-BA  \n",
      "18     UOP02-DEL05-MT  \n",
      "19     UOP01-DEL05-MG  \n",
      "20     UOP01-DEL02-BA  \n",
      "21     UOP01-DEL02-BA  \n",
      "...               ...  \n",
      "64542  UOP01-DEL04-PI  \n",
      "64543  UOP01-DEL01-ES  \n",
      "64544  UOP01-DEL09-MG  \n",
      "64545  UOP02-DEL01-CE  \n",
      "64546  UOP05-DEL01-PR  \n",
      "\n",
      "[63778 rows x 30 columns]\n"
     ]
    }
   ],
   "source": [
    "dados_acidentes = pd.read_csv('Dados_PRF_2022.csv', sep=';', encoding='iso-8859-1')\n",
    "\n",
    "# Lista de feriados (substitua com os feriados do seu país/região)\n",
    "feriados = ['2022-01-01', '2022-02-28', '2022-03-01', '2022-04-15', '2022-04-21']\n",
    "\n",
    "feriados_filtrados = dados_acidentes[~dados_acidentes['data_inversa'].isin(feriados)]\n",
    "\n",
    "# Visualizar os dados apenas dos feriados\n",
    "print(feriados_filtrados)"
   ]
  },
  {
   "cell_type": "code",
   "execution_count": 8,
   "metadata": {},
   "outputs": [],
   "source": [
    "\n",
    "# Carregue seus dados\n",
    "dados_acidentes = pd.read_csv('Dados_PRF_2022.csv', sep=';', encoding='iso-8859-1')\n",
    "\n",
    "# Lista de feriados (substitua com os feriados do seu país/região)\n",
    "feriados = ['2022-01-01', '2022-02-28', '2022-03-01', '2022-04-15', '2022-04-21']\n",
    "\n",
    "# Filtrar o conjunto de dados para retirar os feriados\n",
    "feriados_filtrados = dados_acidentes[~dados_acidentes['data_inversa'].isin(feriados)]\n",
    "\n",
    "# Calcular a quantidade de acidentes com e sem feriados\n",
    "acidentes_sem_feriados = len(feriados_filtrados)\n",
    "acidentes_com_feriados = len(dados_acidentes)\n",
    "\n"
   ]
  },
  {
   "cell_type": "code",
   "execution_count": 9,
   "metadata": {},
   "outputs": [],
   "source": [
    "data = {'Com Feriados': acidentes_com_feriados, 'Sem Feriados': acidentes_sem_feriados}\n",
    "df = pd.DataFrame(data, index=['Quantidade de Acidentes'])"
   ]
  },
  {
   "cell_type": "code",
   "execution_count": 10,
   "metadata": {},
   "outputs": [
    {
     "data": {
      "image/png": "[encoded data removed]",
      "text/plain": [
       "<Figure size 640x480 with 1 Axes>"
      ]
     },
     "metadata": {},
     "output_type": "display_data"
    }
   ],
   "source": [
    "# Crie o gráfico de box plot\n",
    "df.T.boxplot()\n",
    "pyplot.title('Quantidade de Acidentes com e sem Feriados')\n",
    "pyplot.ylabel('Quantidade de Acidentes')\n",
    "pyplot.show()"
   ]
  },
  {
   "cell_type": "code",
   "execution_count": 11,
   "metadata": {},
   "outputs": [
    {
     "data": {
      "text/plain": [
       "64547"
      ]
     },
     "execution_count": 11,
     "metadata": {},
     "output_type": "execute_result"
    }
   ],
   "source": [
    "acidentes_com_feriados"
   ]
  },
  {
   "cell_type": "code",
   "execution_count": 12,
   "metadata": {},
   "outputs": [],
   "source": [
    "dados_acidentes['dia_semana'] = pd.to_datetime(dados_acidentes['data_inversa']).dt.day_name()"
   ]
  },
  {
   "cell_type": "code",
   "execution_count": 13,
   "metadata": {},
   "outputs": [],
   "source": [
    "dados_acidentes['dia_semana'] = pd.to_datetime(dados_acidentes['data_inversa']).dt.day_name()\n",
    "\n",
    "dia_semana_interesse = '2022-01-01'\n",
    "dia_semana_inter = '2022-02-07'\n",
    "\n",
    "feriados_filtrados_feriados = dados_acidentes[dados_acidentes['data_inversa'].isin(feriados)]\n",
    "\n",
    "acidentes_com_feriados_dia = feriados_filtrados_feriados[feriados_filtrados_feriados['data_inversa'] == dia_semana_interesse]\n",
    "\n",
    "\n",
    "acidentes_sem_feriados_dia = dados_acidentes[(dados_acidentes['data_inversa'] == dia_semana_inter) ]\n",
    "\n",
    "\n",
    "contagem_dia_com_feriados = acidentes_com_feriados_dia.value_counts()\n",
    "contagem_dia_sem_feriados = acidentes_sem_feriados_dia.value_counts()\n"
   ]
  },
  {
   "cell_type": "code",
   "execution_count": 14,
   "metadata": {},
   "outputs": [
    {
     "data": {
      "text/plain": [
       "id      data_inversa  dia_semana  horario   uf  br     km     municipio             causa_acidente                                           tipo_acidente              classificacao_acidente  fase_dia     sentido_via  condicao_metereologica  tipo_pista  tracado_via         uso_solo  pessoas  mortos  feridos_leves  feridos_graves  ilesos  ignorados  feridos  veiculos  latitude      longitude     regional  delegacia  uop           \n",
       "405147  2022-01-01    Saturday    00:10:00  CE  222.0  2,8    FORTALEZA             Ingestão de álcool pelo condutor                         Colisão transversal        Com Vítimas Feridas     Plena Noite  Crescente    Céu Claro               Múltipla    Interseção de vias  Sim       2        0       0              1               1       0          1        2         -3,73911117   -38,58687498  SPRF-CE   DEL01-CE   UOP01-DEL01-CE    1\n",
       "405242  2022-01-01    Saturday    11:30:00  SP  116.0  91,5   PINDAMONHANGABA       Avarias e/ou desgaste excessivo no pneu                  Incêndio                   Sem Vítimas             Pleno dia    Decrescente  Nublado                 Dupla       Reta                Não       1        0       0              0               1       0          0        1         -22,94922531  -45,39841533  SPRF-SP   DEL08-SP   UOP01-DEL08-SP    1\n",
       "405272  2022-01-01    Saturday    12:05:00  RO  364.0  90     VILHENA               Reação tardia ou ineficiente do condutor                 Capotamento                Com Vítimas Feridas     Pleno dia    Decrescente  Céu Claro               Simples     Desvio Temporário   Não       5        0       5              0               0       0          5        1         -12,36103512  -60,62575836  SPRF-RO   DEL04-RO   UOP01-DEL04-RO    1\n",
       "405273  2022-01-01    Saturday    15:25:00  MT  364.0  446    VARZEA GRANDE         Ingestão de álcool pelo condutor                         Saída de leito carroçável  Com Vítimas Feridas     Pleno dia    Decrescente  Céu Claro               Simples     Reta                Não       1        0       1              0               0       0          1        1         -15,61443692  -56,20471037  SPRF-MT   DEL01-MT   UOP02-DEL01-MT    1\n",
       "405274  2022-01-01    Saturday    16:10:00  SP  116.0  291    ITAPECERICA DA SERRA  Pista Escorregadia                                       Capotamento                Sem Vítimas             Pleno dia    Decrescente  Garoa/Chuvisco          Dupla       Reta                Não       1        0       0              0               0       1          0        1         -23,73826593  -46,89672721  SPRF-SP   DEL04-SP   UOP01-DEL04-SP    1\n",
       "                                                                                                                                                                                                                                                                                                                                                                                                                                                    ..\n",
       "405213  2022-01-01    Saturday    09:00:00  PB  116.0  8,7    CACHOEIRA DOS INDIOS  Mal súbito do condutor                                   Colisão com objeto         Sem Vítimas             Pleno dia    Crescente    Céu Claro               Simples     Reta                Não       2        0       0              0               2       0          0        1         -6,964668     -38,727608    SPRF-CE   DEL05-CE   UOP03-DEL05-CE    1\n",
       "405214  2022-01-01    Saturday    08:30:00  SC  282.0  252,6  SAO JOSE DO CERRITO   Ausência de reação do condutor                           Saída de leito carroçável  Com Vítimas Feridas     Pleno dia    Crescente    Céu Claro               Simples     Não Informado       Não       1        0       1              0               0       0          1        1         -27,691267    -50,561481    SPRF-SC   DEL05-SC   UOP02-DEL05-SC    1\n",
       "405215  2022-01-01    Saturday    08:00:00  PB  230.0  16     JOAO PESSOA           Ausência de reação do condutor                           Colisão com objeto         Sem Vítimas             Pleno dia    Crescente    Sol                     Dupla       Não Informado       Sim       2        0       0              0               0       2          0        1         -7,1039       -34,8458      SPRF-PB   DEL01-PB   UOP01-DEL01-PB    1\n",
       "405217  2022-01-01    Saturday    10:00:00  ES  262.0  5,3    CARIACICA             Condutor desrespeitou a iluminação vermelha do semáforo  Colisão transversal        Com Vítimas Feridas     Pleno dia    Decrescente  Nublado                 Múltipla    Interseção de vias  Sim       2        0       1              0               1       0          1        2         -20,33707281  -40,38649924  SPRF-ES   DEL01-ES   UOP01-DEL01-ES    1\n",
       "453636  2022-01-01    Saturday    05:30:00  RO  364.0  16     VILHENA               Ingestão de álcool pelo condutor                         Colisão com objeto         Com Vítimas Feridas     Amanhecer    Crescente    Céu Claro               Simples     Reta                Sim       1        0       1              0               0       0          1        1         -12,73437947  -60,15696986  SPRF-RO   DEL04-RO   UOP01-DEL04-RO    1\n",
       "Name: count, Length: 161, dtype: int64"
      ]
     },
     "execution_count": 14,
     "metadata": {},
     "output_type": "execute_result"
    }
   ],
   "source": [
    "contagem_dia_com_feriados"
   ]
  },
  {
   "cell_type": "code",
   "execution_count": 15,
   "metadata": {},
   "outputs": [],
   "source": [
    "data = {'Com Feriados': contagem_dia_com_feriados, 'Sem Feriados': contagem_dia_sem_feriados}\n",
    "df_contagens = pd.DataFrame(data,index=['Quantidade de Acidentes'])"
   ]
  },
  {
   "cell_type": "code",
   "execution_count": 16,
   "metadata": {},
   "outputs": [
    {
     "data": {
      "image/png": "[encoded data removed]",
      "text/plain": [
       "<Figure size 640x480 with 1 Axes>"
      ]
     },
     "metadata": {},
     "output_type": "display_data"
    }
   ],
   "source": [
    "# Crie o gráfico de box plot\n",
    "pyplot.boxplot([contagem_dia_com_feriados, contagem_dia_sem_feriados], labels=['Com Feriados', 'Sem Feriados'])\n",
    "pyplot.title(f'Box Plot da Quantidade de Acidentes em {dia_semana_interesse} com e sem Feriados')\n",
    "pyplot.ylabel('Quantidade de Acidentes')\n",
    "pyplot.show()"
   ]
  },
  {
   "cell_type": "code",
   "execution_count": 17,
   "metadata": {},
   "outputs": [
    {
     "ename": "ValueError",
     "evalue": "setting an array element with a sequence. The requested array has an inhomogeneous shape after 1 dimensions. The detected shape was (2,) + inhomogeneous part.",
     "output_type": "error",
     "traceback": [
      "\u001b[1;31m---------------------------------------------------------------------------\u001b[0m",
      "\u001b[1;31mValueError\u001b[0m                                Traceback (most recent call last)",
      "\u001b[1;32mc:\\Users\\mathe\\Documents\\Guilherme\\pesquisa\\buscar.ipynb Cell 17\u001b[0m line \u001b[0;36m2\n\u001b[0;32m     <a href='vscode-notebook-cell:/c%3A/Users/mathe/Documents/Guilherme/pesquisa/buscar.ipynb#X22sZmlsZQ%3D%3D?line=16'>17</a>\u001b[0m dias \u001b[39m=\u001b[39m [\u001b[39m'\u001b[39m\u001b[39mdia normal\u001b[39m\u001b[39m'\u001b[39m, \u001b[39m'\u001b[39m\u001b[39mferiado\u001b[39m\u001b[39m'\u001b[39m]\n\u001b[0;32m     <a href='vscode-notebook-cell:/c%3A/Users/mathe/Documents/Guilherme/pesquisa/buscar.ipynb#X22sZmlsZQ%3D%3D?line=18'>19</a>\u001b[0m contagens \u001b[39m=\u001b[39m [contagem_dia_sem_feriados, contagem_dia_com_feriados]\n\u001b[1;32m---> <a href='vscode-notebook-cell:/c%3A/Users/mathe/Documents/Guilherme/pesquisa/buscar.ipynb#X22sZmlsZQ%3D%3D?line=20'>21</a>\u001b[0m pyplot\u001b[39m.\u001b[39;49mbarh(dias, contagens, color\u001b[39m=\u001b[39;49m\u001b[39m'\u001b[39;49m\u001b[39mgrey\u001b[39;49m\u001b[39m'\u001b[39;49m)\n\u001b[0;32m     <a href='vscode-notebook-cell:/c%3A/Users/mathe/Documents/Guilherme/pesquisa/buscar.ipynb#X22sZmlsZQ%3D%3D?line=22'>23</a>\u001b[0m pyplot\u001b[39m.\u001b[39mxlabel(\u001b[39m\"\u001b[39m\u001b[39mQuantidade de acidentes\u001b[39m\u001b[39m\"\u001b[39m)\n\u001b[0;32m     <a href='vscode-notebook-cell:/c%3A/Users/mathe/Documents/Guilherme/pesquisa/buscar.ipynb#X22sZmlsZQ%3D%3D?line=23'>24</a>\u001b[0m pyplot\u001b[39m.\u001b[39mtitle(\u001b[39m\"\u001b[39m\u001b[39mDia normal x Dia sendo feriado\u001b[39m\u001b[39m\"\u001b[39m)\n",
      "File \u001b[1;32m~\\AppData\\Local\\Packages\\PythonSoftwareFoundation.Python.3.11_qbz5n2kfra8p0\\LocalCache\\local-packages\\Python311\\site-packages\\matplotlib\\pyplot.py:2457\u001b[0m, in \u001b[0;36mbarh\u001b[1;34m(y, width, height, left, align, data, **kwargs)\u001b[0m\n\u001b[0;32m   2453\u001b[0m \u001b[39m@_copy_docstring_and_deprecators\u001b[39m(Axes\u001b[39m.\u001b[39mbarh)\n\u001b[0;32m   2454\u001b[0m \u001b[39mdef\u001b[39;00m \u001b[39mbarh\u001b[39m(\n\u001b[0;32m   2455\u001b[0m         y, width, height\u001b[39m=\u001b[39m\u001b[39m0.8\u001b[39m, left\u001b[39m=\u001b[39m\u001b[39mNone\u001b[39;00m, \u001b[39m*\u001b[39m, align\u001b[39m=\u001b[39m\u001b[39m'\u001b[39m\u001b[39mcenter\u001b[39m\u001b[39m'\u001b[39m,\n\u001b[0;32m   2456\u001b[0m         data\u001b[39m=\u001b[39m\u001b[39mNone\u001b[39;00m, \u001b[39m*\u001b[39m\u001b[39m*\u001b[39mkwargs):\n\u001b[1;32m-> 2457\u001b[0m     \u001b[39mreturn\u001b[39;00m gca()\u001b[39m.\u001b[39;49mbarh(\n\u001b[0;32m   2458\u001b[0m         y, width, height\u001b[39m=\u001b[39;49mheight, left\u001b[39m=\u001b[39;49mleft, align\u001b[39m=\u001b[39;49malign,\n\u001b[0;32m   2459\u001b[0m         \u001b[39m*\u001b[39;49m\u001b[39m*\u001b[39;49m({\u001b[39m\"\u001b[39;49m\u001b[39mdata\u001b[39;49m\u001b[39m\"\u001b[39;49m: data} \u001b[39mif\u001b[39;49;00m data \u001b[39mis\u001b[39;49;00m \u001b[39mnot\u001b[39;49;00m \u001b[39mNone\u001b[39;49;00m \u001b[39melse\u001b[39;49;00m {}), \u001b[39m*\u001b[39;49m\u001b[39m*\u001b[39;49mkwargs)\n",
      "File \u001b[1;32m~\\AppData\\Local\\Packages\\PythonSoftwareFoundation.Python.3.11_qbz5n2kfra8p0\\LocalCache\\local-packages\\Python311\\site-packages\\matplotlib\\axes\\_axes.py:2641\u001b[0m, in \u001b[0;36mAxes.barh\u001b[1;34m(self, y, width, height, left, align, data, **kwargs)\u001b[0m\n\u001b[0;32m   2531\u001b[0m \u001b[39m\u001b[39m\u001b[39mr\u001b[39m\u001b[39m\"\"\"\u001b[39;00m\n\u001b[0;32m   2532\u001b[0m \u001b[39mMake a horizontal bar plot.\u001b[39;00m\n\u001b[0;32m   2533\u001b[0m \n\u001b[1;32m   (...)\u001b[0m\n\u001b[0;32m   2638\u001b[0m \u001b[39m:doc:`/gallery/lines_bars_and_markers/horizontal_barchart_distribution`.\u001b[39;00m\n\u001b[0;32m   2639\u001b[0m \u001b[39m\"\"\"\u001b[39;00m\n\u001b[0;32m   2640\u001b[0m kwargs\u001b[39m.\u001b[39msetdefault(\u001b[39m'\u001b[39m\u001b[39morientation\u001b[39m\u001b[39m'\u001b[39m, \u001b[39m'\u001b[39m\u001b[39mhorizontal\u001b[39m\u001b[39m'\u001b[39m)\n\u001b[1;32m-> 2641\u001b[0m patches \u001b[39m=\u001b[39m \u001b[39mself\u001b[39;49m\u001b[39m.\u001b[39;49mbar(x\u001b[39m=\u001b[39;49mleft, height\u001b[39m=\u001b[39;49mheight, width\u001b[39m=\u001b[39;49mwidth, bottom\u001b[39m=\u001b[39;49my,\n\u001b[0;32m   2642\u001b[0m                    align\u001b[39m=\u001b[39;49malign, data\u001b[39m=\u001b[39;49mdata, \u001b[39m*\u001b[39;49m\u001b[39m*\u001b[39;49mkwargs)\n\u001b[0;32m   2643\u001b[0m \u001b[39mreturn\u001b[39;00m patches\n",
      "File \u001b[1;32m~\\AppData\\Local\\Packages\\PythonSoftwareFoundation.Python.3.11_qbz5n2kfra8p0\\LocalCache\\local-packages\\Python311\\site-packages\\matplotlib\\__init__.py:1461\u001b[0m, in \u001b[0;36m_preprocess_data.<locals>.inner\u001b[1;34m(ax, data, *args, **kwargs)\u001b[0m\n\u001b[0;32m   1458\u001b[0m \u001b[39m@functools\u001b[39m\u001b[39m.\u001b[39mwraps(func)\n\u001b[0;32m   1459\u001b[0m \u001b[39mdef\u001b[39;00m \u001b[39minner\u001b[39m(ax, \u001b[39m*\u001b[39margs, data\u001b[39m=\u001b[39m\u001b[39mNone\u001b[39;00m, \u001b[39m*\u001b[39m\u001b[39m*\u001b[39mkwargs):\n\u001b[0;32m   1460\u001b[0m     \u001b[39mif\u001b[39;00m data \u001b[39mis\u001b[39;00m \u001b[39mNone\u001b[39;00m:\n\u001b[1;32m-> 1461\u001b[0m         \u001b[39mreturn\u001b[39;00m func(ax, \u001b[39m*\u001b[39;49m\u001b[39mmap\u001b[39;49m(sanitize_sequence, args), \u001b[39m*\u001b[39;49m\u001b[39m*\u001b[39;49mkwargs)\n\u001b[0;32m   1463\u001b[0m     bound \u001b[39m=\u001b[39m new_sig\u001b[39m.\u001b[39mbind(ax, \u001b[39m*\u001b[39margs, \u001b[39m*\u001b[39m\u001b[39m*\u001b[39mkwargs)\n\u001b[0;32m   1464\u001b[0m     auto_label \u001b[39m=\u001b[39m (bound\u001b[39m.\u001b[39marguments\u001b[39m.\u001b[39mget(label_namer)\n\u001b[0;32m   1465\u001b[0m                   \u001b[39mor\u001b[39;00m bound\u001b[39m.\u001b[39mkwargs\u001b[39m.\u001b[39mget(label_namer))\n",
      "File \u001b[1;32m~\\AppData\\Local\\Packages\\PythonSoftwareFoundation.Python.3.11_qbz5n2kfra8p0\\LocalCache\\local-packages\\Python311\\site-packages\\matplotlib\\axes\\_axes.py:2409\u001b[0m, in \u001b[0;36mAxes.bar\u001b[1;34m(self, x, height, width, bottom, align, **kwargs)\u001b[0m\n\u001b[0;32m   2406\u001b[0m     \u001b[39mif\u001b[39;00m yerr \u001b[39mis\u001b[39;00m \u001b[39mnot\u001b[39;00m \u001b[39mNone\u001b[39;00m:\n\u001b[0;32m   2407\u001b[0m         yerr \u001b[39m=\u001b[39m \u001b[39mself\u001b[39m\u001b[39m.\u001b[39m_convert_dx(yerr, y0, y, \u001b[39mself\u001b[39m\u001b[39m.\u001b[39mconvert_yunits)\n\u001b[1;32m-> 2409\u001b[0m x, height, width, y, linewidth, hatch \u001b[39m=\u001b[39m np\u001b[39m.\u001b[39;49mbroadcast_arrays(\n\u001b[0;32m   2410\u001b[0m     \u001b[39m# Make args iterable too.\u001b[39;49;00m\n\u001b[0;32m   2411\u001b[0m     np\u001b[39m.\u001b[39;49matleast_1d(x), height, width, y, linewidth, hatch)\n\u001b[0;32m   2413\u001b[0m \u001b[39m# Now that units have been converted, set the tick locations.\u001b[39;00m\n\u001b[0;32m   2414\u001b[0m \u001b[39mif\u001b[39;00m orientation \u001b[39m==\u001b[39m \u001b[39m'\u001b[39m\u001b[39mvertical\u001b[39m\u001b[39m'\u001b[39m:\n",
      "File \u001b[1;32m~\\AppData\\Local\\Packages\\PythonSoftwareFoundation.Python.3.11_qbz5n2kfra8p0\\LocalCache\\local-packages\\Python311\\site-packages\\numpy\\lib\\stride_tricks.py:538\u001b[0m, in \u001b[0;36mbroadcast_arrays\u001b[1;34m(subok, *args)\u001b[0m\n\u001b[0;32m    482\u001b[0m \u001b[39m\u001b[39m\u001b[39m\"\"\"\u001b[39;00m\n\u001b[0;32m    483\u001b[0m \u001b[39mBroadcast any number of arrays against each other.\u001b[39;00m\n\u001b[0;32m    484\u001b[0m \n\u001b[1;32m   (...)\u001b[0m\n\u001b[0;32m    531\u001b[0m \n\u001b[0;32m    532\u001b[0m \u001b[39m\"\"\"\u001b[39;00m\n\u001b[0;32m    533\u001b[0m \u001b[39m# nditer is not used here to avoid the limit of 32 arrays.\u001b[39;00m\n\u001b[0;32m    534\u001b[0m \u001b[39m# Otherwise, something like the following one-liner would suffice:\u001b[39;00m\n\u001b[0;32m    535\u001b[0m \u001b[39m# return np.nditer(args, flags=['multi_index', 'zerosize_ok'],\u001b[39;00m\n\u001b[0;32m    536\u001b[0m \u001b[39m#                  order='C').itviews\u001b[39;00m\n\u001b[1;32m--> 538\u001b[0m args \u001b[39m=\u001b[39m [np\u001b[39m.\u001b[39;49marray(_m, copy\u001b[39m=\u001b[39;49m\u001b[39mFalse\u001b[39;49;00m, subok\u001b[39m=\u001b[39;49msubok) \u001b[39mfor\u001b[39;49;00m _m \u001b[39min\u001b[39;49;00m args]\n\u001b[0;32m    540\u001b[0m shape \u001b[39m=\u001b[39m _broadcast_shape(\u001b[39m*\u001b[39margs)\n\u001b[0;32m    542\u001b[0m \u001b[39mif\u001b[39;00m \u001b[39mall\u001b[39m(array\u001b[39m.\u001b[39mshape \u001b[39m==\u001b[39m shape \u001b[39mfor\u001b[39;00m array \u001b[39min\u001b[39;00m args):\n\u001b[0;32m    543\u001b[0m     \u001b[39m# Common case where nothing needs to be broadcasted.\u001b[39;00m\n",
      "File \u001b[1;32m~\\AppData\\Local\\Packages\\PythonSoftwareFoundation.Python.3.11_qbz5n2kfra8p0\\LocalCache\\local-packages\\Python311\\site-packages\\numpy\\lib\\stride_tricks.py:538\u001b[0m, in \u001b[0;36m<listcomp>\u001b[1;34m(.0)\u001b[0m\n\u001b[0;32m    482\u001b[0m \u001b[39m\u001b[39m\u001b[39m\"\"\"\u001b[39;00m\n\u001b[0;32m    483\u001b[0m \u001b[39mBroadcast any number of arrays against each other.\u001b[39;00m\n\u001b[0;32m    484\u001b[0m \n\u001b[1;32m   (...)\u001b[0m\n\u001b[0;32m    531\u001b[0m \n\u001b[0;32m    532\u001b[0m \u001b[39m\"\"\"\u001b[39;00m\n\u001b[0;32m    533\u001b[0m \u001b[39m# nditer is not used here to avoid the limit of 32 arrays.\u001b[39;00m\n\u001b[0;32m    534\u001b[0m \u001b[39m# Otherwise, something like the following one-liner would suffice:\u001b[39;00m\n\u001b[0;32m    535\u001b[0m \u001b[39m# return np.nditer(args, flags=['multi_index', 'zerosize_ok'],\u001b[39;00m\n\u001b[0;32m    536\u001b[0m \u001b[39m#                  order='C').itviews\u001b[39;00m\n\u001b[1;32m--> 538\u001b[0m args \u001b[39m=\u001b[39m [np\u001b[39m.\u001b[39marray(_m, copy\u001b[39m=\u001b[39m\u001b[39mFalse\u001b[39;00m, subok\u001b[39m=\u001b[39msubok) \u001b[39mfor\u001b[39;00m _m \u001b[39min\u001b[39;00m args]\n\u001b[0;32m    540\u001b[0m shape \u001b[39m=\u001b[39m _broadcast_shape(\u001b[39m*\u001b[39margs)\n\u001b[0;32m    542\u001b[0m \u001b[39mif\u001b[39;00m \u001b[39mall\u001b[39m(array\u001b[39m.\u001b[39mshape \u001b[39m==\u001b[39m shape \u001b[39mfor\u001b[39;00m array \u001b[39min\u001b[39;00m args):\n\u001b[0;32m    543\u001b[0m     \u001b[39m# Common case where nothing needs to be broadcasted.\u001b[39;00m\n",
      "\u001b[1;31mValueError\u001b[0m: setting an array element with a sequence. The requested array has an inhomogeneous shape after 1 dimensions. The detected shape was (2,) + inhomogeneous part."
     ]
    }
   ],
   "source": [
    "# Escolha o dia da semana de interesse\n",
    "dia_semana_interesse = '2022-01-01'\n",
    "dia_semana_inter = '2022-02-07'\n",
    "\n",
    "feriados_filtrados_feriados = dados_acidentes[dados_acidentes['data_inversa'].isin(feriados)]\n",
    "# Filtrar os dados para o dia da semana com feriados\n",
    "acidentes_com_feriados_dia = feriados_filtrados_feriados[feriados_filtrados_feriados['data_inversa'] == dia_semana_interesse]\n",
    "\n",
    "# Filtrar os dados para o mesmo dia da semana sem feriados\n",
    "acidentes_sem_feriados_dia = dados_acidentes[(dados_acidentes['data_inversa'] == dia_semana_inter) ]\n",
    "#& (~dados_acidentes['data_inversa'].isin(feriados))\n",
    "\n",
    "\n",
    "contagem_dia_com_feriados = acidentes_com_feriados_dia.value_counts()\n",
    "contagem_dia_sem_feriados = acidentes_sem_feriados_dia.value_counts()\n",
    "\n",
    "dias = ['dia normal', 'feriado']\n",
    "\n",
    "contagens = [contagem_dia_sem_feriados, contagem_dia_com_feriados]\n",
    "\n",
    "pyplot.barh(dias, contagens, color='grey')\n",
    "\n",
    "pyplot.xlabel(\"Quantidade de acidentes\")\n",
    "pyplot.title(\"Dia normal x Dia sendo feriado\")\n",
    "\n",
    "pyplot.show()\n",
    "\n",
    "#esse bloco está com erro ainda :(, arrumar depois"
   ]
  }
 ],
 "metadata": {
  "kernelspec": {
   "display_name": "Python 3",
   "language": "python",
   "name": "python3"
  },
  "language_info": {
   "codemirror_mode": {
    "name": "ipython",
    "version": 3
   },
   "file_extension": ".py",
   "mimetype": "text/x-python",
   "name": "python",
   "nbconvert_exporter": "python",
   "pygments_lexer": "ipython3",
   "version": "3.11.6"
  },
  "orig_nbformat": 4
 },
 "nbformat": 4,
 "nbformat_minor": 2
}
